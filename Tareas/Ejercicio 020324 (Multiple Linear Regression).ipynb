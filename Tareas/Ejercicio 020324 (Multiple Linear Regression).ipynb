{
 "cells": [
  {
   "cell_type": "markdown",
   "id": "appointed-floor",
   "metadata": {},
   "source": [
    "# Multiple Linear Regression"
   ]
  },
  {
   "cell_type": "markdown",
   "id": "frozen-wrapping",
   "metadata": {},
   "source": [
    "## Exercise\n",
    "\n",
    "implements multiple linear regression"
   ]
  },
  {
   "cell_type": "code",
   "execution_count": 1,
   "id": "acquired-plenty",
   "metadata": {},
   "outputs": [],
   "source": [
    "import numpy as np\n",
    "import pandas as pd\n",
    "import matplotlib.pyplot as plt\n",
    "import seaborn as sns\n",
    "from jupyterthemes import jtplot\n",
    "from mpl_toolkits.mplot3d import Axes3D\n",
    "%matplotlib inline"
   ]
  },
  {
   "cell_type": "code",
   "execution_count": 2,
   "id": "progressive-payroll",
   "metadata": {},
   "outputs": [],
   "source": [
    "jtplot.style()"
   ]
  },
  {
   "cell_type": "code",
   "execution_count": 3,
   "id": "brutal-lawyer",
   "metadata": {},
   "outputs": [],
   "source": [
    "data = pd.read_csv('data_2d.csv', names = ['X1', 'X2', 'y'])"
   ]
  },
  {
   "cell_type": "code",
   "execution_count": 4,
   "id": "0bc00cf2",
   "metadata": {},
   "outputs": [
    {
     "data": {
      "text/html": [
       "<div>\n",
       "<style scoped>\n",
       "    .dataframe tbody tr th:only-of-type {\n",
       "        vertical-align: middle;\n",
       "    }\n",
       "\n",
       "    .dataframe tbody tr th {\n",
       "        vertical-align: top;\n",
       "    }\n",
       "\n",
       "    .dataframe thead th {\n",
       "        text-align: right;\n",
       "    }\n",
       "</style>\n",
       "<table border=\"1\" class=\"dataframe\">\n",
       "  <thead>\n",
       "    <tr style=\"text-align: right;\">\n",
       "      <th></th>\n",
       "      <th>X1</th>\n",
       "      <th>X2</th>\n",
       "      <th>y</th>\n",
       "    </tr>\n",
       "  </thead>\n",
       "  <tbody>\n",
       "    <tr>\n",
       "      <th>0</th>\n",
       "      <td>17.930201</td>\n",
       "      <td>94.520592</td>\n",
       "      <td>320.259530</td>\n",
       "    </tr>\n",
       "    <tr>\n",
       "      <th>1</th>\n",
       "      <td>97.144697</td>\n",
       "      <td>69.593282</td>\n",
       "      <td>404.634472</td>\n",
       "    </tr>\n",
       "    <tr>\n",
       "      <th>2</th>\n",
       "      <td>81.775901</td>\n",
       "      <td>5.737648</td>\n",
       "      <td>181.485108</td>\n",
       "    </tr>\n",
       "    <tr>\n",
       "      <th>3</th>\n",
       "      <td>55.854342</td>\n",
       "      <td>70.325902</td>\n",
       "      <td>321.773638</td>\n",
       "    </tr>\n",
       "    <tr>\n",
       "      <th>4</th>\n",
       "      <td>49.366550</td>\n",
       "      <td>75.114040</td>\n",
       "      <td>322.465486</td>\n",
       "    </tr>\n",
       "    <tr>\n",
       "      <th>...</th>\n",
       "      <td>...</td>\n",
       "      <td>...</td>\n",
       "      <td>...</td>\n",
       "    </tr>\n",
       "    <tr>\n",
       "      <th>95</th>\n",
       "      <td>46.456779</td>\n",
       "      <td>82.000171</td>\n",
       "      <td>336.876154</td>\n",
       "    </tr>\n",
       "    <tr>\n",
       "      <th>96</th>\n",
       "      <td>77.130301</td>\n",
       "      <td>95.188759</td>\n",
       "      <td>438.460586</td>\n",
       "    </tr>\n",
       "    <tr>\n",
       "      <th>97</th>\n",
       "      <td>68.600608</td>\n",
       "      <td>72.571181</td>\n",
       "      <td>355.900287</td>\n",
       "    </tr>\n",
       "    <tr>\n",
       "      <th>98</th>\n",
       "      <td>41.693887</td>\n",
       "      <td>69.241126</td>\n",
       "      <td>284.834637</td>\n",
       "    </tr>\n",
       "    <tr>\n",
       "      <th>99</th>\n",
       "      <td>4.142669</td>\n",
       "      <td>52.254726</td>\n",
       "      <td>168.034401</td>\n",
       "    </tr>\n",
       "  </tbody>\n",
       "</table>\n",
       "<p>100 rows × 3 columns</p>\n",
       "</div>"
      ],
      "text/plain": [
       "           X1         X2           y\n",
       "0   17.930201  94.520592  320.259530\n",
       "1   97.144697  69.593282  404.634472\n",
       "2   81.775901   5.737648  181.485108\n",
       "3   55.854342  70.325902  321.773638\n",
       "4   49.366550  75.114040  322.465486\n",
       "..        ...        ...         ...\n",
       "95  46.456779  82.000171  336.876154\n",
       "96  77.130301  95.188759  438.460586\n",
       "97  68.600608  72.571181  355.900287\n",
       "98  41.693887  69.241126  284.834637\n",
       "99   4.142669  52.254726  168.034401\n",
       "\n",
       "[100 rows x 3 columns]"
      ]
     },
     "execution_count": 4,
     "metadata": {},
     "output_type": "execute_result"
    }
   ],
   "source": [
    "data"
   ]
  },
  {
   "cell_type": "code",
   "execution_count": 5,
   "id": "a9c28743",
   "metadata": {},
   "outputs": [],
   "source": [
    "class Regressors:\n",
    "    \n",
    "    def score(self, y_pred, y_real):\n",
    "        return 1 - ((y_real - y_pred) ** 2).sum() / ((y_real - y_real.mean()) ** 2).sum()"
   ]
  },
  {
   "cell_type": "code",
   "execution_count": 24,
   "id": "6da4141d",
   "metadata": {},
   "outputs": [],
   "source": [
    "class LinearRegressor(Regressors):\n",
    "    \n",
    "    def fit(self, X_train, y_train):\n",
    "        \n",
    "        new_col = np.ones(X_train.shape[0])\n",
    "        X_train = np.column_stack([X_train, new_col])\n",
    "    \n",
    "        \n",
    "        inv = np.linalg.inv(X_train.T.dot(X_train))\n",
    "        \n",
    "        self.w = inv.dot(X_train.T).dot(y_train)\n",
    "        \n",
    "    def predict(self, X):\n",
    "        new_col = np.ones(X.shape[0])\n",
    "        X = np.column_stack([X, new_col])\n",
    "        \n",
    "        return X.dot(self.w)"
   ]
  },
  {
   "cell_type": "code",
   "execution_count": 25,
   "id": "67d8d144",
   "metadata": {},
   "outputs": [],
   "source": [
    "X = data[[\"X1\", \"X2\"]].values"
   ]
  },
  {
   "cell_type": "code",
   "execution_count": 26,
   "id": "0f292b31",
   "metadata": {},
   "outputs": [],
   "source": [
    "y = data['y'].values"
   ]
  },
  {
   "cell_type": "code",
   "execution_count": 27,
   "id": "a3e9a465",
   "metadata": {},
   "outputs": [],
   "source": [
    "model = LinearRegressor()"
   ]
  },
  {
   "cell_type": "code",
   "execution_count": 28,
   "id": "1ff48d75",
   "metadata": {},
   "outputs": [],
   "source": [
    "model.fit(X, y)"
   ]
  },
  {
   "cell_type": "code",
   "execution_count": 29,
   "id": "5dbf3afb",
   "metadata": {},
   "outputs": [
    {
     "data": {
      "text/plain": [
       "array([2.01666793, 2.96985048, 1.46191241])"
      ]
     },
     "execution_count": 29,
     "metadata": {},
     "output_type": "execute_result"
    }
   ],
   "source": [
    "model.w"
   ]
  },
  {
   "cell_type": "code",
   "execution_count": 30,
   "id": "7aa2525a",
   "metadata": {},
   "outputs": [
    {
     "data": {
      "text/plain": [
       "0.9980040612475778"
      ]
     },
     "execution_count": 30,
     "metadata": {},
     "output_type": "execute_result"
    }
   ],
   "source": [
    "model.score(model.predict(X), y)"
   ]
  },
  {
   "cell_type": "markdown",
   "id": "0c180019",
   "metadata": {},
   "source": [
    "Ejercicio\n",
    "Función para calcular linea de regresión incorporando n cantidad de variables predictoras (X)."
   ]
  },
  {
   "cell_type": "code",
   "execution_count": 16,
   "id": "41448d42",
   "metadata": {},
   "outputs": [],
   "source": [
    "import numpy as np\n",
    "import pandas as pd"
   ]
  },
  {
   "cell_type": "code",
   "execution_count": 17,
   "id": "911cdb19",
   "metadata": {},
   "outputs": [],
   "source": [
    "class Regressors:\n",
    "    def score(self, y_pred, y_real):\n",
    "        return 1 - ((y_real - y_pred) ** 2).sum() / ((y_real - y_real.mean()) ** 2).sum()"
   ]
  },
  {
   "cell_type": "code",
   "execution_count": 18,
   "id": "46dd8246",
   "metadata": {},
   "outputs": [],
   "source": [
    "class LinearRegressor(Regressors):\n",
    "    def fit(self, X_train, y_train):\n",
    "        ones_column = np.ones(X_train.shape[0])\n",
    "        X_train = np.column_stack([X_train, ones_column])\n",
    "        inv = np.linalg.inv(X_train.T.dot(X_train))\n",
    "        self.w = inv.dot(X_train.T).dot(y_train)\n",
    "    def predict(self, X):\n",
    "        ones_column = np.ones(X.shape[0])\n",
    "        X = np.column_stack([X, ones_column])\n",
    "        return X.dot(self.w)"
   ]
  },
  {
   "cell_type": "code",
   "execution_count": 19,
   "id": "4344cf37",
   "metadata": {},
   "outputs": [],
   "source": [
    "def automatic_regression_line(X, y):\n",
    "    model = LinearRegressor()\n",
    "    model.fit(X, y)\n",
    "    return model.w"
   ]
  },
  {
   "cell_type": "code",
   "execution_count": 20,
   "id": "3400d466",
   "metadata": {},
   "outputs": [],
   "source": [
    "# Ejemplo con el dataset\n",
    "data = pd.read_csv('data_2d.csv', names=['X1', 'X2', 'y'])\n",
    "X_data = data[[\"X1\", \"X2\"]].values\n",
    "y_data = data['y'].values"
   ]
  },
  {
   "cell_type": "code",
   "execution_count": 21,
   "id": "83f8b5cd",
   "metadata": {},
   "outputs": [],
   "source": [
    "# creación de la regresion\n",
    "model = LinearRegressor()\n",
    "model.fit(X_data, y_data)"
   ]
  },
  {
   "cell_type": "code",
   "execution_count": 22,
   "id": "6d8ed8f9",
   "metadata": {},
   "outputs": [],
   "source": [
    "# Se calculan los coeficientes de la regresión\n",
    "coefficients = model.w"
   ]
  },
  {
   "cell_type": "code",
   "execution_count": 23,
   "id": "b79c9883",
   "metadata": {},
   "outputs": [
    {
     "data": {
      "text/plain": [
       "array([2.01666793, 2.96985048, 1.46191241])"
      ]
     },
     "execution_count": 23,
     "metadata": {},
     "output_type": "execute_result"
    }
   ],
   "source": [
    "coefficients"
   ]
  },
  {
   "cell_type": "code",
   "execution_count": 24,
   "id": "42530801",
   "metadata": {},
   "outputs": [],
   "source": [
    "# Puntuación del modelo\n",
    "score = model.score(model.predict(X_data), y_data)"
   ]
  },
  {
   "cell_type": "code",
   "execution_count": 25,
   "id": "91564a2e",
   "metadata": {},
   "outputs": [
    {
     "data": {
      "text/plain": [
       "0.9980040612475778"
      ]
     },
     "execution_count": 25,
     "metadata": {},
     "output_type": "execute_result"
    }
   ],
   "source": [
    "score"
   ]
  }
 ],
 "metadata": {
  "kernelspec": {
   "display_name": "Python 3 (ipykernel)",
   "language": "python",
   "name": "python3"
  },
  "language_info": {
   "codemirror_mode": {
    "name": "ipython",
    "version": 3
   },
   "file_extension": ".py",
   "mimetype": "text/x-python",
   "name": "python",
   "nbconvert_exporter": "python",
   "pygments_lexer": "ipython3",
   "version": "3.11.5"
  }
 },
 "nbformat": 4,
 "nbformat_minor": 5
}
